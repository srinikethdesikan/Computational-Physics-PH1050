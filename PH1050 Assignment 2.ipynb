{
 "cells": [
  {
   "cell_type": "markdown",
   "id": "e2891cc9",
   "metadata": {},
   "source": [
    "# PH1050 - Problem Set 2\n",
    "Name: S Sriniketh Desikan\n",
    "Roll No. : EP23B051"
   ]
  },
  {
   "cell_type": "code",
   "execution_count": 3,
   "id": "6992b326",
   "metadata": {},
   "outputs": [],
   "source": [
    "import numpy as np\n",
    "import matplotlib.pyplot as plt\n",
    "import math as mt"
   ]
  },
  {
   "cell_type": "markdown",
   "id": "1dd12fdb",
   "metadata": {},
   "source": [
    "## Problem 1\n",
    "Create a list of 10 integer numbers and find the maximum and minimum numbers from that list, without\n",
    "using any Python module."
   ]
  },
  {
   "cell_type": "code",
   "execution_count": 5,
   "id": "c64ae196",
   "metadata": {},
   "outputs": [],
   "source": [
    "def maxi(l):\n",
    "    c=l[0]\n",
    "    for i in l:\n",
    "        if i>c:\n",
    "            c=i\n",
    "        else:\n",
    "            continue\n",
    "    return c\n",
    "def mini(l):\n",
    "    c=l[0]\n",
    "    for i in l:\n",
    "        if i<c:\n",
    "            c=i\n",
    "        else:\n",
    "            continue\n",
    "    return c\n",
    "    "
   ]
  },
  {
   "cell_type": "code",
   "execution_count": 10,
   "id": "e486e49d",
   "metadata": {},
   "outputs": [
    {
     "name": "stdout",
     "output_type": "stream",
     "text": [
      "Enter the numbers separated by spaces1 23 44\n",
      "The maximum element is 44 and the minimum element is 1\n"
     ]
    }
   ],
   "source": [
    "# e.g: lst=[12,23,41,56,77,65,43,21,87,99,100]\n",
    "lst=input(\"Enter the numbers separated by spaces\")\n",
    "lst=lst.split()\n",
    "print(\"The maximum element is\",maxi(lst),\"and the minimum element is\",mini(lst))"
   ]
  },
  {
   "cell_type": "markdown",
   "id": "28c8eed1",
   "metadata": {},
   "source": [
    "### Problem 2\n",
    "Write a Python code to determine the smallest positive number that can be represented on the computer\n",
    "you are using for different data types, e.g., float64, float128."
   ]
  },
  {
   "cell_type": "code",
   "execution_count": 12,
   "id": "db799dd7",
   "metadata": {},
   "outputs": [
    {
     "name": "stdout",
     "output_type": "stream",
     "text": [
      "The precision is 324\n"
     ]
    }
   ],
   "source": [
    "c=1\n",
    "x=0\n",
    "while c!=0:\n",
    "    c=c*(10**(-1))\n",
    "    x=x+1\n",
    "print('The precision is',x)"
   ]
  },
  {
   "cell_type": "code",
   "execution_count": 16,
   "id": "e0aefe38",
   "metadata": {},
   "outputs": [
    {
     "name": "stdout",
     "output_type": "stream",
     "text": [
      "The precision is 4951\n"
     ]
    }
   ],
   "source": [
    "c=np.array([1],dtype='float128')\n",
    "x=0\n",
    "while c[0]!=0:\n",
    "    c[0]=c[0]*(10**(-1))\n",
    "    x=x+1\n",
    "print('The precision is',x)"
   ]
  },
  {
   "cell_type": "code",
   "execution_count": 17,
   "id": "b5359776",
   "metadata": {},
   "outputs": [
    {
     "name": "stdout",
     "output_type": "stream",
     "text": [
      "The precision is 1\n"
     ]
    }
   ],
   "source": [
    "c=np.array([1],dtype='int8')\n",
    "x=0\n",
    "while c[0]!=0:\n",
    "    c[0]=c[0]*(10**(-1))\n",
    "    x=x+1\n",
    "print('The precision is',x)"
   ]
  },
  {
   "cell_type": "code",
   "execution_count": 18,
   "id": "318614e9",
   "metadata": {},
   "outputs": [
    {
     "name": "stdout",
     "output_type": "stream",
     "text": [
      "The precision is 1\n"
     ]
    }
   ],
   "source": [
    "c=np.array([1],dtype='int16')\n",
    "x=0\n",
    "while c[0]!=0:\n",
    "    c[0]=c[0]*(10**(-1))\n",
    "    x=x+1\n",
    "print('The precision is',x)"
   ]
  },
  {
   "cell_type": "code",
   "execution_count": 19,
   "id": "24640316",
   "metadata": {},
   "outputs": [
    {
     "name": "stdout",
     "output_type": "stream",
     "text": [
      "The precision is 1\n"
     ]
    }
   ],
   "source": [
    "c=np.array([1],dtype='int32')\n",
    "x=0\n",
    "while c[0]!=0:\n",
    "    c[0]=c[0]*(10**(-1))\n",
    "    x=x+1\n",
    "print('The precision is',x)"
   ]
  },
  {
   "cell_type": "code",
   "execution_count": 20,
   "id": "cb90e753",
   "metadata": {},
   "outputs": [
    {
     "name": "stdout",
     "output_type": "stream",
     "text": [
      "The precision is 1\n"
     ]
    }
   ],
   "source": [
    "c=np.array([1],dtype='int64')\n",
    "x=0\n",
    "while c[0]!=0:\n",
    "    c[0]=c[0]*(10**(-1))\n",
    "    x=x+1\n",
    "print('The precision is',x)"
   ]
  },
  {
   "cell_type": "code",
   "execution_count": 22,
   "id": "4e002d3e",
   "metadata": {},
   "outputs": [
    {
     "name": "stdout",
     "output_type": "stream",
     "text": [
      "The precision is 8\n"
     ]
    }
   ],
   "source": [
    "c=np.array([1],dtype='float16')\n",
    "x=0\n",
    "while c[0]!=0:\n",
    "    c[0]=c[0]*(10**(-1))\n",
    "    x=x+1\n",
    "print('The precision is',x)"
   ]
  },
  {
   "cell_type": "code",
   "execution_count": 23,
   "id": "ca45aad9",
   "metadata": {},
   "outputs": [
    {
     "name": "stdout",
     "output_type": "stream",
     "text": [
      "The precision is 46\n"
     ]
    }
   ],
   "source": [
    "c=np.array([1],dtype='float32')\n",
    "x=0\n",
    "while c[0]!=0:\n",
    "    c[0]=c[0]*(10**(-1))\n",
    "    x=x+1\n",
    "print('The precision is',x)"
   ]
  },
  {
   "cell_type": "code",
   "execution_count": 24,
   "id": "443274f6",
   "metadata": {},
   "outputs": [
    {
     "name": "stdout",
     "output_type": "stream",
     "text": [
      "The precision is 324\n"
     ]
    }
   ],
   "source": [
    "c=np.array([1],dtype='float64')\n",
    "x=0\n",
    "while c[0]!=0:\n",
    "    c[0]=c[0]*(10**(-1))\n",
    "    x=x+1\n",
    "print('The precision is',x)"
   ]
  },
  {
   "cell_type": "code",
   "execution_count": 25,
   "id": "99500bd8",
   "metadata": {},
   "outputs": [
    {
     "name": "stdout",
     "output_type": "stream",
     "text": [
      "The precision is 4951\n"
     ]
    }
   ],
   "source": [
    "c=np.array([1],dtype='float128')\n",
    "x=0\n",
    "while c[0]!=0:\n",
    "    c[0]=c[0]*(10**(-1))\n",
    "    x=x+1\n",
    "print('The precision is',x)"
   ]
  },
  {
   "cell_type": "markdown",
   "id": "a52b035e",
   "metadata": {},
   "source": [
    "### Problem 3\n",
    "Write a Python program to reverse the digits of a given number."
   ]
  },
  {
   "cell_type": "code",
   "execution_count": 38,
   "id": "d9c18616",
   "metadata": {},
   "outputs": [],
   "source": [
    "def reverses(m):\n",
    "    m=str(m)\n",
    "    s=''\n",
    "    for i in range(-1,-len(m)-1,-1):\n",
    "        s=s+m[i]\n",
    "    return int(s) "
   ]
  },
  {
   "cell_type": "code",
   "execution_count": 40,
   "id": "9f76e61e",
   "metadata": {},
   "outputs": [
    {
     "name": "stdout",
     "output_type": "stream",
     "text": [
      "Enter the number123\n",
      "321\n"
     ]
    }
   ],
   "source": [
    "m=int(input(\"Enter the number\"))\n",
    "print(reverses(m))"
   ]
  },
  {
   "cell_type": "markdown",
   "id": "826d67d5",
   "metadata": {},
   "source": [
    "An alternate solution is:"
   ]
  },
  {
   "cell_type": "code",
   "execution_count": 71,
   "id": "a86981a1",
   "metadata": {},
   "outputs": [],
   "source": [
    "def reversen(m):\n",
    "    l=[]\n",
    "    while m>0:\n",
    "        l.append(m%(10))\n",
    "        m=m//10\n",
    "    x=len(l)-1\n",
    "    n=0\n",
    "    while len(l)>0:\n",
    "        n=n+l[0]*(10**x)\n",
    "        x=x-1\n",
    "        l.remove(l[0])\n",
    "    return n"
   ]
  },
  {
   "cell_type": "code",
   "execution_count": 72,
   "id": "d943d47f",
   "metadata": {},
   "outputs": [
    {
     "name": "stdout",
     "output_type": "stream",
     "text": [
      "Enter the number1234\n",
      "4321\n"
     ]
    }
   ],
   "source": [
    "m=int(input(\"Enter the number\"))\n",
    "print(reversen(m))"
   ]
  },
  {
   "cell_type": "markdown",
   "id": "03052d0d",
   "metadata": {},
   "source": [
    "### Problem 4\n",
    "Print all prime numbers less than 100."
   ]
  },
  {
   "cell_type": "code",
   "execution_count": 60,
   "id": "aa2bcec1",
   "metadata": {},
   "outputs": [
    {
     "name": "stdout",
     "output_type": "stream",
     "text": [
      "2\n",
      "3\n",
      "5\n",
      "7\n",
      "11\n",
      "13\n",
      "17\n",
      "19\n",
      "23\n",
      "29\n",
      "31\n",
      "37\n",
      "41\n",
      "43\n",
      "47\n",
      "53\n",
      "59\n",
      "61\n",
      "67\n",
      "71\n",
      "73\n",
      "79\n",
      "83\n",
      "89\n",
      "97\n"
     ]
    }
   ],
   "source": [
    "for i in range(2,101):\n",
    "    p=0\n",
    "    for j in range(2,i):\n",
    "        if i%j==0:\n",
    "            p=1\n",
    "    if p==0:\n",
    "        print(i)\n"
   ]
  },
  {
   "cell_type": "markdown",
   "id": "20d34c01",
   "metadata": {},
   "source": [
    "### Problem 5\n",
    "Evaluate the expression sqrt(x^2+1)-1 in two ways"
   ]
  },
  {
   "cell_type": "code",
   "execution_count": 81,
   "id": "8276ebba",
   "metadata": {},
   "outputs": [],
   "source": [
    "def error(x):\n",
    "    a=((x**2+1)**(0.5)-1)\n",
    "    b=x**2/(((x**2+1)**(0.5)+1))\n",
    "    return abs(a-b)"
   ]
  },
  {
   "cell_type": "code",
   "execution_count": 82,
   "id": "68148c93",
   "metadata": {},
   "outputs": [
    {
     "name": "stdout",
     "output_type": "stream",
     "text": [
      "7.719519468096792e-17\n",
      "9.947554932554503e-17\n",
      "5.871399456306315e-17\n"
     ]
    }
   ],
   "source": [
    "print(error(0.1))\n",
    "print(error(0.01))\n",
    "print(error(0.001))"
   ]
  },
  {
   "cell_type": "markdown",
   "id": "4c47d3fe",
   "metadata": {},
   "source": [
    "### Problem 6\n",
    "It is desired to calculate all integral powers of the number x = (√5. − 1.)/2. It turns out that the integral\n",
    "powers of x satisfy a simple recursive relation - x^(n+1)=x^(n-1)-x^n\n",
    "Show that the above recurrence relation is unstable by calculating x^16,x^30,x^40 and x^50 from the recurrence\n",
    "relation and comparing with the actual values."
   ]
  },
  {
   "cell_type": "code",
   "execution_count": 87,
   "id": "0cecb62d",
   "metadata": {},
   "outputs": [],
   "source": [
    "n=(mt.sqrt(5)-1)/2\n",
    "N=0\n",
    "def rel(m):\n",
    "    if m==0:\n",
    "        return 1\n",
    "    if m==1:\n",
    "        return n\n",
    "    if m==2:\n",
    "        return n**2\n",
    "    else:\n",
    "        N=rel(m-2)-rel(m-1)\n",
    "        return N"
   ]
  },
  {
   "cell_type": "code",
   "execution_count": null,
   "id": "f42cdcd2",
   "metadata": {},
   "outputs": [],
   "source": [
    "l=[16,30,40,50]\n",
    "for i in l:\n",
    "    print(n**i,'|',rel(i))\n",
    "    print(n**i-rel(i))\n"
   ]
  },
  {
   "cell_type": "markdown",
   "id": "ace55b6c",
   "metadata": {},
   "source": [
    "We can see that there is an error which keeps growing as the index increases. Hence, the recurrence relation is unstable"
   ]
  },
  {
   "cell_type": "markdown",
   "id": "46e3b2cf",
   "metadata": {},
   "source": [
    "An alternate method: (faster)"
   ]
  },
  {
   "cell_type": "code",
   "execution_count": null,
   "id": "1c154446",
   "metadata": {},
   "outputs": [],
   "source": [
    "n=(mt.sqrt(5)-1)/2\n",
    "y=[0,n]\n",
    "for i in range(2,52):\n",
    "    y[i]=y[i-1]+y[i-2]\n",
    "print(y)\n",
    "    "
   ]
  },
  {
   "cell_type": "markdown",
   "id": "9197384e",
   "metadata": {},
   "source": [
    "### Problem 7\n",
    "x(n)=(1/3)^n\n",
    "x(n+1)=(13/3)x(n)-(4/3)x(n-1)\n",
    "Show that the recurrence relation is unstable by calculating x(15),x(30),x(40) and x(50)from the recurrence relation and comparing actual values"
   ]
  },
  {
   "cell_type": "code",
   "execution_count": 135,
   "id": "9de37d8a",
   "metadata": {},
   "outputs": [],
   "source": [
    "x=1/3\n",
    "X=0\n",
    "def threl(m):\n",
    "    if m==0:\n",
    "        return 1\n",
    "    if m==1:\n",
    "        return x\n",
    "    if m==2:\n",
    "        return x**2\n",
    "    else:\n",
    "        X=(13/3)*(threl(m-1))-(4/3)*(threl(m-2))\n",
    "        return X"
   ]
  },
  {
   "cell_type": "code",
   "execution_count": null,
   "id": "3238dee1",
   "metadata": {},
   "outputs": [
    {
     "name": "stdout",
     "output_type": "stream",
     "text": [
      "6.969171937625627e-08 | 6.863073405643946e-08\n",
      "1.060985319816808e-09\n",
      "4.856935749618853e-15 | -1.1392243125374022\n",
      "1.139224312537407\n",
      "8.22526333996994e-20 | -1194563.272743224\n",
      "1194563.272743224\n"
     ]
    }
   ],
   "source": [
    "l=[15,30,40,50]\n",
    "for i in l:\n",
    "    print(x**i,'|',threl(i))\n",
    "    print(x**i-threl(i))"
   ]
  },
  {
   "cell_type": "markdown",
   "id": "70046703",
   "metadata": {},
   "source": [
    "### Problem 8\n",
    "x = [ 2.718281823, -3.141592654, 1.414213562, 0.5772156649, 0.3010299957]\n",
    "y = [1486.2497, 878366.9879,-22.37492, 4773714.647, 0.000185049 ]"
   ]
  },
  {
   "cell_type": "code",
   "execution_count": 8,
   "id": "82c89781",
   "metadata": {},
   "outputs": [],
   "source": [
    "x =[ 2.718281823, -3.141592654, 1.414213562, 0.5772156649, 0.3010299957]\n",
    "y =[1486.2497, 878366.9879,-22.37492, 4773714.647, 0.000185049 ]\n",
    "def dotforward(x,y):\n",
    "    s=0\n",
    "    for i in range(0,len(x)):\n",
    "        s=s+(x[i]*y[i])\n",
    "    return s\n",
    "def dotreverse(x,y):\n",
    "    s=0\n",
    "    for i in range(-1,-len(x)-1,-1):\n",
    "        s=s+(x[i]*y[i])\n",
    "    return s\n",
    "def dotsorted(x,y):\n",
    "    s=0\n",
    "    p=[]\n",
    "    for i in range(-1,-len(x)-1,-1):\n",
    "        s=x[i]*y[i]\n",
    "        p.append(s)\n",
    "    p=sorted(p)\n",
    "    s=0\n",
    "    for i in range(-1,-len(x)-1,-1):\n",
    "        s=s+p[i]\n",
    "        \n",
    "    return s\n",
    "def dotsortedreverse(x,y):\n",
    "    s=0\n",
    "    p=[]\n",
    "    for i in range(0,len(x)):\n",
    "        s=(x[i]*y[i])\n",
    "        p.append(s)\n",
    "    p=sorted(p)\n",
    "    s=0\n",
    "    for i in range(0,len(x)):\n",
    "        s=s+p[i]\n",
    "        \n",
    "        \n",
    "    return s"
   ]
  },
  {
   "cell_type": "code",
   "execution_count": 10,
   "id": "e9e832f6",
   "metadata": {},
   "outputs": [
    {
     "name": "stdout",
     "output_type": "stream",
     "text": [
      "-7.431385965330528e-06\n",
      "-7.431405265378999e-06\n",
      "-7.431488484144211e-06\n",
      "-7.431488484144211e-06\n"
     ]
    }
   ],
   "source": [
    "print(dotforward(x,y))\n",
    "print(dotreverse(x,y))\n",
    "print(dotsorted(x,y))\n",
    "print(dotsortedreverse(x,y))"
   ]
  },
  {
   "cell_type": "code",
   "execution_count": 12,
   "id": "f52775fb",
   "metadata": {},
   "outputs": [
    {
     "name": "stdout",
     "output_type": "stream",
     "text": [
      "-0.3472038161853561\n",
      "-0.3472038162872195\n",
      "-0.3472038162872195\n",
      "-0.3472038162872195\n"
     ]
    }
   ],
   "source": [
    "x=np.array(x,dtype='float32')\n",
    "y=np.array(y,dtype='float32')\n",
    "print(dotforward(x,y))\n",
    "print(dotreverse(x,y))\n",
    "print(dotsorted(x,y))\n",
    "print(dotsortedreverse(x,y))"
   ]
  },
  {
   "cell_type": "code",
   "execution_count": 14,
   "id": "bbc1d095",
   "metadata": {},
   "outputs": [
    {
     "name": "stdout",
     "output_type": "stream",
     "text": [
      "-0.16756826908253317\n",
      "-0.16756826941855252\n",
      "-0.16756826918572187\n",
      "-0.16756826918572187\n"
     ]
    }
   ],
   "source": [
    "x=np.array(x,dtype='float64')\n",
    "y=np.array(y,dtype='float64')\n",
    "print(dotforward(x,y))\n",
    "print(dotreverse(x,y))\n",
    "print(dotsorted(x,y))\n",
    "print(dotsortedreverse(x,y))"
   ]
  },
  {
   "cell_type": "code",
   "execution_count": 17,
   "id": "66098fec-4634-4763-9299-ddac52b720f8",
   "metadata": {},
   "outputs": [],
   "source": [
    "\n",
    "def dotforward(x, y):\n",
    "    return np.dot(x, y)\n",
    "\n",
    "def dotreverse(x, y):\n",
    "    return np.dot(x[::-1], y[::-1])\n",
    "\n",
    "def dotsorted(x, y):\n",
    "    p = np.sort(x[::-1] * y[::-1])\n",
    "    return np.sum(p)\n",
    "\n",
    "def dotsortedreverse(x, y):\n",
    "    p = np.sort(x * y)\n",
    "    return np.sum(p)"
   ]
  },
  {
   "cell_type": "code",
   "execution_count": 19,
   "id": "ab5fda09-61cf-401c-a755-3d652762c087",
   "metadata": {},
   "outputs": [
    {
     "name": "stdout",
     "output_type": "stream",
     "text": [
      "-0.34711227\n",
      "-0.34716797\n",
      "-0.5\n",
      "-0.5\n"
     ]
    }
   ],
   "source": [
    "x=np.array(x,dtype='float32')\n",
    "y=np.array(y,dtype='float32')\n",
    "print(dotforward(x,y))\n",
    "print(dotreverse(x,y))\n",
    "print(dotsorted(x,y))\n",
    "print(dotsortedreverse(x,y))"
   ]
  },
  {
   "cell_type": "code",
   "execution_count": 21,
   "id": "95d41f6a-7a7d-48ae-85bc-dd5975f0eb45",
   "metadata": {},
   "outputs": [
    {
     "name": "stdout",
     "output_type": "stream",
     "text": [
      "-0.16756826932309452\n",
      "-0.16756826932305557\n",
      "-0.16756826918572187\n",
      "-0.16756826918572187\n"
     ]
    }
   ],
   "source": [
    "x=np.array(x,dtype='float64')\n",
    "y=np.array(y,dtype='float64')\n",
    "print(dotforward(x,y))\n",
    "print(dotreverse(x,y))\n",
    "print(dotsorted(x,y))\n",
    "print(dotsortedreverse(x,y))"
   ]
  },
  {
   "cell_type": "markdown",
   "id": "c3f01ca9-97f6-42b4-885a-60f4db819bb1",
   "metadata": {},
   "source": [
    "The above is what we get if use the numpy dot product function."
   ]
  }
 ],
 "metadata": {
  "kernelspec": {
   "display_name": "Python 3 (ipykernel)",
   "language": "python",
   "name": "python3"
  },
  "language_info": {
   "codemirror_mode": {
    "name": "ipython",
    "version": 3
   },
   "file_extension": ".py",
   "mimetype": "text/x-python",
   "name": "python",
   "nbconvert_exporter": "python",
   "pygments_lexer": "ipython3",
   "version": "3.13.2"
  }
 },
 "nbformat": 4,
 "nbformat_minor": 5
}
