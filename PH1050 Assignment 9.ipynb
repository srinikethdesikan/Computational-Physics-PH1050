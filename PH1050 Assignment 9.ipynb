{
 "cells": [
  {
   "cell_type": "markdown",
   "id": "b4d57679-6b16-4f17-a899-16b85b5fa755",
   "metadata": {},
   "source": [
    "# PH1050 Assignment 9\n",
    "Name: S Sriniketh Desikan\n",
    "Roll No.: EP23B051"
   ]
  },
  {
   "cell_type": "code",
   "execution_count": 1,
   "id": "f05b17c5",
   "metadata": {},
   "outputs": [],
   "source": [
    "import numpy as np\n",
    "import matplotlib.pyplot as plt\n",
    "import math as mt"
   ]
  },
  {
   "cell_type": "markdown",
   "id": "357de677-7f55-4ba0-a444-ec62d887a4a7",
   "metadata": {},
   "source": [
    "### Problem 1\n",
    "Diagonal dominance of matrix: Consider the square matrices:\n",
    "\n",
    "A =[-6 2 1 2 1;\n",
    "3 8 -4 1 0;\n",
    "-1 1 4 10 1;\n",
    "3 -4 1 9 2;\n",
    "2 0 1 3 10]\n",
    "\n",
    "\n",
    "B=[18 3 6 -3;\n",
    "9 13 -5 2;\n",
    "-3 -2 4 9;\n",
    "6 0 11 3]\n",
    "\n",
    "Write a code to see is the matrices A and B are diagonally dominant. In case if they are not, make the code\n",
    "display a message like “Not strictly diagonally dominant on row (row number)."
   ]
  },
  {
   "cell_type": "code",
   "execution_count": 4,
   "id": "8870b32d",
   "metadata": {},
   "outputs": [],
   "source": [
    "A=np.array([[-6,2,1,2,1],[3,8,-4,1,0],[-1,1,4,10,1],[3,-4,1,9,2],[2,0,1,3,10]])\n",
    "B=np.array([[18,3,6,-3],[9,13,-5,2],[-3,-2,4,9],[6,0,11,3]])"
   ]
  },
  {
   "cell_type": "code",
   "execution_count": 6,
   "id": "fdd7a911",
   "metadata": {},
   "outputs": [],
   "source": [
    "def DDCheck(M):\n",
    "    if M.shape!=(M.shape[1],M.shape[0]):\n",
    "        return \"Not a square matrix\"\n",
    "    d=[]\n",
    "    for i in range(M.shape[0]):\n",
    "        s=0\n",
    "        x=abs(M[i,i])\n",
    "        for j in range(M.shape[1]):\n",
    "            if j!=i:\n",
    "                s=s+abs(M[i,j])\n",
    "        if x<s:\n",
    "            d.append(i+1)\n",
    "    if len(d)==0:\n",
    "        return \"The matrix is diagonally dominant \"\n",
    "    else:\n",
    "        return \"The matrix is not diagonally dominant at the rows \"+str(d)"
   ]
  },
  {
   "cell_type": "code",
   "execution_count": 8,
   "id": "20516528",
   "metadata": {},
   "outputs": [
    {
     "name": "stdout",
     "output_type": "stream",
     "text": [
      "The matrix is not diagonally dominant at the rows [3, 4]\n",
      "The matrix is not diagonally dominant at the rows [2, 3, 4]\n"
     ]
    }
   ],
   "source": [
    "print(DDCheck(A))\n",
    "print(DDCheck(B))"
   ]
  },
  {
   "cell_type": "markdown",
   "id": "2831498f-08db-45fa-b867-f5dabe348cdc",
   "metadata": {},
   "source": [
    "### Problem 2\n",
    "Gauss-Seidel method: Consider the set of algebraic linear equations,\n",
    "a11x1 + a12x2 + ...... + a1nxn = b1\n",
    "a21x1 + a22x2 + ...... + a2nxn = b2\n",
    ".\n",
    ".\n",
    "an1x1 + an2x2 + ...... + annxn = bn\n",
    "Where the coefficients and constants are given by\n",
    "A =[-6 2 1 2 1;\n",
    "3 8 -4 1 0;\n",
    "-1 1 4 10 1;\n",
    "3 -4 1 9 2;\n",
    "2 0 1 3 10]\n",
    "And the coefficient matrix is given by b = [3; 4; -2; 12;1].\n",
    "a) Write a code to see is the matrix A is diagonally dominant.\n",
    "(b) Write a code for solving this equation using Gauss-Seidel method in which the convergence is achieved if\n",
    "error limit in successive iteration is within 0.001."
   ]
  },
  {
   "cell_type": "code",
   "execution_count": 11,
   "id": "1250bba6",
   "metadata": {},
   "outputs": [],
   "source": [
    "A=np.array([[-6,2,1,2,1],[3,8,-4,1,0],[-1,1,4,10,1],[3,-4,1,9,2],[2,0,1,3,10]])\n",
    "b=np.array([3,4,-2,12,1])"
   ]
  },
  {
   "cell_type": "code",
   "execution_count": 13,
   "id": "99c9f2d5",
   "metadata": {},
   "outputs": [
    {
     "name": "stdout",
     "output_type": "stream",
     "text": [
      "The matrix is not diagonally dominant at the rows [3, 4]\n"
     ]
    }
   ],
   "source": [
    "print(DDCheck(A))"
   ]
  },
  {
   "cell_type": "code",
   "execution_count": 15,
   "id": "2918eb82-89e8-4688-9863-8c97ac43a3e0",
   "metadata": {},
   "outputs": [],
   "source": [
    "def gauss_seidel(A, b, tol=0.001):\n",
    "    n = len(b)\n",
    "    x_old = np.zeros(n)\n",
    "    x_new = np.ones(n)\n",
    "    error = 1\n",
    "\n",
    "    while error > tol:\n",
    "        for i in range(n):\n",
    "            sum=np.sum(A[i,:]*x_old)-(A[i,i]*x_old[i])\n",
    "            x_new[i] = (b[i] - sum) / A[i, i]\n",
    "        error = mt.sqrt(np.sum((x_new-x_old)**2))\n",
    "        x_old = x_new.copy()\n",
    "        \n",
    "    return x_new\n"
   ]
  },
  {
   "cell_type": "code",
   "execution_count": 17,
   "id": "44d83db6",
   "metadata": {},
   "outputs": [
    {
     "name": "stdout",
     "output_type": "stream",
     "text": [
      "[-1.12219899 -1.38885325 -4.24645398  1.49490533  0.3004646 ]\n"
     ]
    }
   ],
   "source": [
    "print(gauss_seidel(A,b))"
   ]
  },
  {
   "cell_type": "markdown",
   "id": "e3a67bd0-7d54-48f4-8dcc-cf923064bbde",
   "metadata": {},
   "source": [
    "### Problem 3\n",
    "Write a function that implements the Gauss elimination method to solve a system of linear equations. Apply\n",
    "the program to solve the set of equations Ax=b.\n",
    "A =[2 3 -2;\n",
    "1 6 -4;\n",
    "4 -1 6]\n",
    "x = [x1\n",
    "x2\n",
    "x3]\n",
    "b = [2\n",
    "4\n",
    "6]"
   ]
  },
  {
   "cell_type": "code",
   "execution_count": 20,
   "id": "f6ef8c86-d88f-4146-a2cb-280fc7e7484a",
   "metadata": {},
   "outputs": [],
   "source": [
    "def gauss_elimination(A,b):\n",
    "    A=np.array(A,dtype='float32')\n",
    "    n=A.shape[0]\n",
    "    b=np.array(b,dtype='float32').reshape(n,1)\n",
    "    x=np.zeros(n)\n",
    "    if A.shape[0]!=b.shape[0]:\n",
    "        return \"Wrong input dimensions for solving an equation. Check again!\"\n",
    "    #let k be the row index and l be the column index\n",
    "    M=np.column_stack((A,b))\n",
    "    for k in range(M.shape[0]):\n",
    "        for l in range(M.shape[1]):\n",
    "            if M[k,l]!=0:\n",
    "                p=M[k,l]\n",
    "                break\n",
    "        for j in range(k+1,M.shape[0]):\n",
    "            M[j]=M[j]-M[k]*(M[j,k]/M[k,k])\n",
    "    for i in range(M.shape[0]-1,-1,-1):\n",
    "        x[i]=M[i,-1]\n",
    "        for j in range(i+1,n):\n",
    "            x[i] = x[i] - M[i,j] * x[j]\n",
    "        x[i] = x[i] / M[i,i]\n",
    "    return x"
   ]
  },
  {
   "cell_type": "code",
   "execution_count": 22,
   "id": "00de320d-f195-46a7-b7d5-40dcf4a277e8",
   "metadata": {},
   "outputs": [],
   "source": [
    "#Let the equation be Fx=g to prevent confusion with the earlier problem\n",
    "F=np.array([[2,3,-2],[1,6,-4],[4,-1,6]])\n",
    "g=np.array([2,4,6])"
   ]
  },
  {
   "cell_type": "code",
   "execution_count": 24,
   "id": "8a2642f7-15d4-4093-8c20-5dd585a05cfc",
   "metadata": {},
   "outputs": [
    {
     "name": "stdout",
     "output_type": "stream",
     "text": [
      "[0.         1.50000009 1.25000013]\n"
     ]
    }
   ],
   "source": [
    "x1=gauss_elimination(F,g)\n",
    "print(x1)"
   ]
  },
  {
   "cell_type": "markdown",
   "id": "5155c85a-cde8-4406-9704-acca75a7e6dd",
   "metadata": {},
   "source": [
    "### Problem 4\n",
    "Write a program that calculates the eigenvalues of the an nxn matrix. Implement that program to find all\n",
    "the eigen values of the matrix \n",
    "A =[1 2 3;\n",
    "2 2 -2;\n",
    "3 -2 1]"
   ]
  },
  {
   "cell_type": "code",
   "execution_count": 62,
   "id": "58d3d66c-f101-4bab-ac83-f8ac60dcaeb2",
   "metadata": {},
   "outputs": [],
   "source": [
    "def NR(x0, f, f1, ite=1000, tol=1e-6):\n",
    "    xr = x0\n",
    "    for i in range(ite):\n",
    "        f_prime = f1(xr)\n",
    "        if f_prime == 0:\n",
    "            print(\"No root found. Extremum encountered.\")\n",
    "            return None\n",
    "        x_new = xr - f(xr) / f_prime\n",
    "        if abs(x_new - xr) < tol:\n",
    "            return x_new\n",
    "        xr = x_new\n",
    "    print(\"Maximum iterations reached. Solution may not have converged.\")\n",
    "    return xr\n",
    "\n",
    "def get_eigenvalue(M):\n",
    "    #function to return the eigen values of an nxn square matrix\n",
    "    if M.shape[0]!=M.shape[1]:\n",
    "        return \"Not a square matrix. Eigenvalues do not exist\"\n",
    "    n=M.shape[0]\n",
    "    C=np.identity(n)\n",
    "    e=np.zeros(n)\n",
    "    def f(l):\n",
    "        return np.linalg.det(M-l*C)\n",
    "    def f1(l,h=1e-5):\n",
    "        return (f(l+h)-f(l-h))/(2*h)\n",
    "    s=np.linspace(-1000,1000,2000)\n",
    "    r=[]\n",
    "    r.append(NR(0,f,f1))\n",
    "    for i in s:\n",
    "        x=NR(i,f,f1)\n",
    "        flag=True\n",
    "        #if x != None:\n",
    "        for root in r:\n",
    "            if abs(x-root)<1e-2:\n",
    "                flag=False\n",
    "                break\n",
    "        if flag:\n",
    "            r.append(x)\n",
    "        #if all(abs(x - root) > 1e-5 for root in r):\n",
    "            #r.append(x)\n",
    "    return r"
   ]
  },
  {
   "cell_type": "code",
   "execution_count": 64,
   "id": "65e56b7c-287a-4d50-bee6-0af22e28a634",
   "metadata": {},
   "outputs": [
    {
     "name": "stdout",
     "output_type": "stream",
     "text": [
      "The eigenvalues are: [4.0, -3.4641016151377553, 3.4641016151377544]\n"
     ]
    }
   ],
   "source": [
    "E=np.array([[1,2,3],[2,2,-2],[3,-2,1]])\n",
    "e=get_eigenvalue(E)\n",
    "print(\"The eigenvalues are:\",e)"
   ]
  },
  {
   "cell_type": "code",
   "execution_count": null,
   "id": "5a5090bb-c8f9-43aa-b35b-8f96cacefc92",
   "metadata": {},
   "outputs": [],
   "source": []
  },
  {
   "cell_type": "code",
   "execution_count": null,
   "id": "0702213d-999a-49c0-ac1f-ea73780895cd",
   "metadata": {},
   "outputs": [],
   "source": []
  }
 ],
 "metadata": {
  "kernelspec": {
   "display_name": "Python 3 (ipykernel)",
   "language": "python",
   "name": "python3"
  },
  "language_info": {
   "codemirror_mode": {
    "name": "ipython",
    "version": 3
   },
   "file_extension": ".py",
   "mimetype": "text/x-python",
   "name": "python",
   "nbconvert_exporter": "python",
   "pygments_lexer": "ipython3",
   "version": "3.12.4"
  }
 },
 "nbformat": 4,
 "nbformat_minor": 5
}
