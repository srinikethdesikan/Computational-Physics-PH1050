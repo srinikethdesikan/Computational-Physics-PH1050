{
 "cells": [
  {
   "cell_type": "markdown",
   "id": "b96dbc89",
   "metadata": {
    "id": "b96dbc89"
   },
   "source": [
    "# PH1050 - Problem Set 1\n",
    "Name: S Sriniketh Desikan\n",
    "Roll No.: EP23B051"
   ]
  },
  {
   "cell_type": "code",
   "execution_count": 1,
   "id": "d34bfe5a",
   "metadata": {
    "executionInfo": {
     "elapsed": 388,
     "status": "ok",
     "timestamp": 1724230253606,
     "user": {
      "displayName": "Sriniketh Desikan S ep23b051",
      "userId": "08686085587227008980"
     },
     "user_tz": -330
    },
    "id": "d34bfe5a"
   },
   "outputs": [],
   "source": [
    "import math as mt\n",
    "import numpy as np"
   ]
  },
  {
   "cell_type": "markdown",
   "id": "2f433fe0",
   "metadata": {
    "id": "2f433fe0"
   },
   "source": [
    "### Problem 1\n",
    "Write a Python function that converts the radians into degrees and returns the value in degrees. The function should take one parameter, which is the angle in decimal."
   ]
  },
  {
   "cell_type": "code",
   "execution_count": 2,
   "id": "da0718a6",
   "metadata": {
    "executionInfo": {
     "elapsed": 1490,
     "status": "ok",
     "timestamp": 1724230256324,
     "user": {
      "displayName": "Sriniketh Desikan S ep23b051",
      "userId": "08686085587227008980"
     },
     "user_tz": -330
    },
    "id": "da0718a6"
   },
   "outputs": [],
   "source": [
    "def radtodeg(rad):\n",
    "    deg=rad*180*(1/mt.pi)\n",
    "    return deg"
   ]
  },
  {
   "cell_type": "markdown",
   "id": "1dd8e989",
   "metadata": {
    "id": "1dd8e989"
   },
   "source": [
    "### Problem 2\n",
    "Write a Python function that converts a decimal number into its equivalent binary representation."
   ]
  },
  {
   "cell_type": "code",
   "execution_count": 3,
   "id": "65350d54",
   "metadata": {
    "executionInfo": {
     "elapsed": 15,
     "status": "ok",
     "timestamp": 1724230256324,
     "user": {
      "displayName": "Sriniketh Desikan S ep23b051",
      "userId": "08686085587227008980"
     },
     "user_tz": -330
    },
    "id": "65350d54"
   },
   "outputs": [],
   "source": [
    "def dectobin(decimal):\n",
    "    c=0\n",
    "    a=0\n",
    "    while decimal>0:\n",
    "        a=a+(10**c)*(decimal%2)\n",
    "        c=c+1\n",
    "        decimal=decimal//2\n",
    "    return a"
   ]
  },
  {
   "cell_type": "markdown",
   "id": "06a1ff14",
   "metadata": {
    "id": "06a1ff14"
   },
   "source": [
    "### Problem 3\n",
    "Write a Python function that accepts three parameters. The first two parameters are two integers, and the last parameter should be a mathematical operator plus or minus or multiply etc.."
   ]
  },
  {
   "cell_type": "code",
   "execution_count": 4,
   "id": "db903a5b",
   "metadata": {
    "executionInfo": {
     "elapsed": 13,
     "status": "ok",
     "timestamp": 1724230256324,
     "user": {
      "displayName": "Sriniketh Desikan S ep23b051",
      "userId": "08686085587227008980"
     },
     "user_tz": -330
    },
    "id": "db903a5b"
   },
   "outputs": [],
   "source": [
    "def f(n1,n2,o):\n",
    "    if o=='+':\n",
    "        return n1+n2\n",
    "    if o=='-':\n",
    "        return n1-n2\n",
    "    if o=='*':\n",
    "        return n1*n2\n",
    "    if o=='/':\n",
    "        return n1/n2\n",
    "    if o=='//':\n",
    "        return n1//n2\n"
   ]
  },
  {
   "cell_type": "code",
   "execution_count": 5,
   "id": "2ac2cd86",
   "metadata": {
    "colab": {
     "base_uri": "https://localhost:8080/"
    },
    "executionInfo": {
     "elapsed": 11,
     "status": "ok",
     "timestamp": 1724230256324,
     "user": {
      "displayName": "Sriniketh Desikan S ep23b051",
      "userId": "08686085587227008980"
     },
     "user_tz": -330
    },
    "id": "2ac2cd86",
    "outputId": "e9550cdc-dbb3-4700-e446-5d2e077638fe"
   },
   "outputs": [
    {
     "name": "stdout",
     "output_type": "stream",
     "text": [
      "3\n"
     ]
    }
   ],
   "source": [
    "# example\n",
    "print(f(1,2,'+'))"
   ]
  },
  {
   "cell_type": "markdown",
   "id": "7808d13f",
   "metadata": {
    "id": "7808d13f"
   },
   "source": [
    "### Problem 4\n",
    "Write a Python Program for simple interest calculation. It will take three inputs: P is the principal amount T is the time and R is the rate, and return the interest."
   ]
  },
  {
   "cell_type": "code",
   "execution_count": 6,
   "id": "c6e0668b",
   "metadata": {
    "executionInfo": {
     "elapsed": 10,
     "status": "ok",
     "timestamp": 1724230256324,
     "user": {
      "displayName": "Sriniketh Desikan S ep23b051",
      "userId": "08686085587227008980"
     },
     "user_tz": -330
    },
    "id": "c6e0668b"
   },
   "outputs": [],
   "source": [
    "def SI(P,T,R):\n",
    "    return P*T*R*(0.01)\n"
   ]
  },
  {
   "cell_type": "markdown",
   "id": "73cb56dc",
   "metadata": {
    "id": "73cb56dc"
   },
   "source": [
    "### Problem 5\n",
    "Write a function that accepts strings, and returns a string where each character is doubled in the original string (input string = ’Python’, Output string = ’PPyytthhoonn’."
   ]
  },
  {
   "cell_type": "code",
   "execution_count": 7,
   "id": "4d80a94c",
   "metadata": {
    "executionInfo": {
     "elapsed": 10,
     "status": "ok",
     "timestamp": 1724230256325,
     "user": {
      "displayName": "Sriniketh Desikan S ep23b051",
      "userId": "08686085587227008980"
     },
     "user_tz": -330
    },
    "id": "4d80a94c"
   },
   "outputs": [],
   "source": [
    "def repeat(st):\n",
    "    strr=''\n",
    "    for i in range(0,len(st)):\n",
    "        for j in range(1,3):\n",
    "            strr=strr+(st[i])\n",
    "    return strr"
   ]
  },
  {
   "cell_type": "code",
   "execution_count": 8,
   "id": "e1660156",
   "metadata": {
    "colab": {
     "base_uri": "https://localhost:8080/"
    },
    "executionInfo": {
     "elapsed": 9,
     "status": "ok",
     "timestamp": 1724230256325,
     "user": {
      "displayName": "Sriniketh Desikan S ep23b051",
      "userId": "08686085587227008980"
     },
     "user_tz": -330
    },
    "id": "e1660156",
    "outputId": "3faabc0f-b149-4490-c215-1eef84b5bb87"
   },
   "outputs": [
    {
     "name": "stdout",
     "output_type": "stream",
     "text": [
      "PPyytthhoonn\n"
     ]
    }
   ],
   "source": [
    "print(repeat(\"Python\"))"
   ]
  },
  {
   "cell_type": "markdown",
   "id": "6410f88d",
   "metadata": {
    "id": "6410f88d"
   },
   "source": [
    "### Problem 6\n",
    "Write a Python Program to Find the Factorial of a Number."
   ]
  },
  {
   "cell_type": "code",
   "execution_count": 9,
   "id": "e54d4008",
   "metadata": {
    "executionInfo": {
     "elapsed": 8,
     "status": "ok",
     "timestamp": 1724230256325,
     "user": {
      "displayName": "Sriniketh Desikan S ep23b051",
      "userId": "08686085587227008980"
     },
     "user_tz": -330
    },
    "id": "e54d4008"
   },
   "outputs": [],
   "source": [
    "def fact(n):\n",
    "    f=1\n",
    "    if n>=0:\n",
    "        for i in range(1,n+1):\n",
    "            f=f*i\n",
    "        return f\n",
    "    if n<0:\n",
    "        return 'Factorial not defined'"
   ]
  },
  {
   "cell_type": "markdown",
   "id": "a3a8024d",
   "metadata": {
    "id": "a3a8024d"
   },
   "source": [
    "### Problem 7\n",
    "Write Python Program to calculate n-th Fibonacci number Using recursion."
   ]
  },
  {
   "cell_type": "code",
   "execution_count": 10,
   "id": "9da7c3bf",
   "metadata": {
    "executionInfo": {
     "elapsed": 8,
     "status": "ok",
     "timestamp": 1724230256325,
     "user": {
      "displayName": "Sriniketh Desikan S ep23b051",
      "userId": "08686085587227008980"
     },
     "user_tz": -330
    },
    "id": "9da7c3bf"
   },
   "outputs": [],
   "source": [
    "def Fib(n):\n",
    "    l=[1,1]\n",
    "    if n==1:\n",
    "        return 1\n",
    "    if n==2:\n",
    "        return 1\n",
    "    if n>2:\n",
    "        for i in range(1,n-1):\n",
    "            l.append(l[-1]+l[-2])\n",
    "    return l[-1]"
   ]
  },
  {
   "cell_type": "markdown",
   "id": "5366bd98",
   "metadata": {
    "id": "5366bd98"
   },
   "source": [
    "note: the range is till n-1 since the list indices change when we do the operation twice"
   ]
  },
  {
   "cell_type": "code",
   "execution_count": 11,
   "id": "ca12b22c",
   "metadata": {
    "executionInfo": {
     "elapsed": 7,
     "status": "ok",
     "timestamp": 1724230256325,
     "user": {
      "displayName": "Sriniketh Desikan S ep23b051",
      "userId": "08686085587227008980"
     },
     "user_tz": -330
    },
    "id": "ca12b22c"
   },
   "outputs": [],
   "source": [
    "def FibR(n):\n",
    "    if (n==1 or n==2):\n",
    "        return 1\n",
    "    if n>2:\n",
    "        F=FibR(n-1)+FibR(n-2)\n",
    "    return F"
   ]
  },
  {
   "cell_type": "markdown",
   "id": "fdc70012",
   "metadata": {
    "id": "fdc70012"
   },
   "source": [
    "The above is a recursive method to generate the nth Fibonacci term"
   ]
  },
  {
   "cell_type": "markdown",
   "id": "4cf0f111",
   "metadata": {
    "id": "4cf0f111"
   },
   "source": [
    "### Problem 8\n",
    "Find the precision of the float data type"
   ]
  },
  {
   "cell_type": "code",
   "execution_count": 12,
   "id": "c8790822",
   "metadata": {
    "colab": {
     "base_uri": "https://localhost:8080/"
    },
    "executionInfo": {
     "elapsed": 6,
     "status": "ok",
     "timestamp": 1724230256325,
     "user": {
      "displayName": "Sriniketh Desikan S ep23b051",
      "userId": "08686085587227008980"
     },
     "user_tz": -330
    },
    "id": "c8790822",
    "outputId": "a5b1c3a3-a9eb-451d-943c-34dfcfaea124"
   },
   "outputs": [
    {
     "name": "stdout",
     "output_type": "stream",
     "text": [
      "The precision is 324\n"
     ]
    }
   ],
   "source": [
    "c=1\n",
    "x=0\n",
    "while c!=0:\n",
    "    c=c*(10**(-1))\n",
    "    x=x+1\n",
    "print('The precision is',x)"
   ]
  },
  {
   "cell_type": "markdown",
   "id": "5069344f",
   "metadata": {
    "id": "5069344f"
   },
   "source": [
    "### Problem 9\n",
    "Using NumPy for precision"
   ]
  },
  {
   "cell_type": "code",
   "execution_count": 13,
   "id": "0a7a0010",
   "metadata": {
    "colab": {
     "base_uri": "https://localhost:8080/"
    },
    "executionInfo": {
     "elapsed": 6,
     "status": "ok",
     "timestamp": 1724230256326,
     "user": {
      "displayName": "Sriniketh Desikan S ep23b051",
      "userId": "08686085587227008980"
     },
     "user_tz": -330
    },
    "id": "0a7a0010",
    "outputId": "2056fb5e-4f33-4604-fe94-8d202651fdc7"
   },
   "outputs": [
    {
     "name": "stdout",
     "output_type": "stream",
     "text": [
      "The precision is 4951\n"
     ]
    }
   ],
   "source": [
    "c=np.array([1],dtype='float128')\n",
    "x=0\n",
    "while c[0]!=0:\n",
    "    c[0]=c[0]*(10**(-1))\n",
    "    x=x+1\n",
    "print('The precision is',x)"
   ]
  },
  {
   "cell_type": "markdown",
   "id": "ef9bd00e",
   "metadata": {
    "id": "ef9bd00e"
   },
   "source": [
    "note: Changing the datatype gives different values of precision"
   ]
  }
 ],
 "metadata": {
  "colab": {
   "provenance": []
  },
  "kernelspec": {
   "display_name": "Python 3 (ipykernel)",
   "language": "python",
   "name": "python3"
  },
  "language_info": {
   "codemirror_mode": {
    "name": "ipython",
    "version": 3
   },
   "file_extension": ".py",
   "mimetype": "text/x-python",
   "name": "python",
   "nbconvert_exporter": "python",
   "pygments_lexer": "ipython3",
   "version": "3.12.4"
  }
 },
 "nbformat": 4,
 "nbformat_minor": 5
}
